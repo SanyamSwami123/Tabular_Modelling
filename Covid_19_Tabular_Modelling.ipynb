{
 "cells": [
  {
   "cell_type": "code",
   "execution_count": 225,
   "id": "78432427",
   "metadata": {},
   "outputs": [],
   "source": [
    "import gc\n",
    "from tqdm import tqdm\n",
    "\n",
    "import pandas as pd\n",
    "import numpy as np\n",
    "import matplotlib.pyplot as plt\n",
    "import seaborn as sea\n",
    "\n",
    "import torch\n",
    "from torch import nn\n",
    "from torch.nn import functional as F\n",
    "from torch import optim\n",
    "from torch.utils.data import Dataset, DataLoader"
   ]
  },
  {
   "cell_type": "code",
   "execution_count": 226,
   "id": "5a816251",
   "metadata": {},
   "outputs": [],
   "source": [
    "def dataIter(x):\n",
    "    return next(iter(x))"
   ]
  },
  {
   "cell_type": "code",
   "execution_count": 227,
   "id": "14a11871",
   "metadata": {},
   "outputs": [],
   "source": [
    "# ls"
   ]
  },
  {
   "cell_type": "code",
   "execution_count": 228,
   "id": "a3938133",
   "metadata": {},
   "outputs": [],
   "source": [
    "train = pd.read_csv(r'covid_data/train.csv')\n",
    "test = pd.read_csv(r'covid_data/test.csv')"
   ]
  },
  {
   "cell_type": "code",
   "execution_count": 229,
   "id": "3bf55270",
   "metadata": {},
   "outputs": [
    {
     "name": "stdout",
     "output_type": "stream",
     "text": [
      "<class 'pandas.core.frame.DataFrame'>\n",
      "RangeIndex: 35995 entries, 0 to 35994\n",
      "Data columns (total 6 columns):\n",
      " #   Column          Non-Null Count  Dtype  \n",
      "---  ------          --------------  -----  \n",
      " 0   Id              35995 non-null  int64  \n",
      " 1   Province_State  15295 non-null  object \n",
      " 2   Country_Region  35995 non-null  object \n",
      " 3   Date            35995 non-null  object \n",
      " 4   ConfirmedCases  35995 non-null  float64\n",
      " 5   Fatalities      35995 non-null  float64\n",
      "dtypes: float64(2), int64(1), object(3)\n",
      "memory usage: 1.6+ MB\n"
     ]
    }
   ],
   "source": [
    "train.info()"
   ]
  },
  {
   "cell_type": "code",
   "execution_count": 230,
   "id": "7808a088",
   "metadata": {},
   "outputs": [
    {
     "name": "stderr",
     "output_type": "stream",
     "text": [
      "/tmp/ipykernel_6039/319639393.py:1: UserWarning: The argument 'infer_datetime_format' is deprecated and will be removed in a future version. A strict version of it is now the default, see https://pandas.pydata.org/pdeps/0004-consistent-to-datetime-parsing.html. You can safely remove this argument.\n",
      "  train.Date = pd.to_datetime(train.Date, infer_datetime_format=True)\n",
      "/tmp/ipykernel_6039/319639393.py:2: UserWarning: The argument 'infer_datetime_format' is deprecated and will be removed in a future version. A strict version of it is now the default, see https://pandas.pydata.org/pdeps/0004-consistent-to-datetime-parsing.html. You can safely remove this argument.\n",
      "  test.Date = pd.to_datetime(test.Date,  infer_datetime_format=True)\n"
     ]
    }
   ],
   "source": [
    "train.Date = pd.to_datetime(train.Date, infer_datetime_format=True)\n",
    "test.Date = pd.to_datetime(test.Date,  infer_datetime_format=True)"
   ]
  },
  {
   "cell_type": "code",
   "execution_count": 231,
   "id": "b439fc07",
   "metadata": {},
   "outputs": [
    {
     "name": "stdout",
     "output_type": "stream",
     "text": [
      "<class 'pandas.core.frame.DataFrame'>\n",
      "RangeIndex: 35995 entries, 0 to 35994\n",
      "Data columns (total 6 columns):\n",
      " #   Column          Non-Null Count  Dtype         \n",
      "---  ------          --------------  -----         \n",
      " 0   Id              35995 non-null  int64         \n",
      " 1   Province_State  15295 non-null  object        \n",
      " 2   Country_Region  35995 non-null  object        \n",
      " 3   Date            35995 non-null  datetime64[ns]\n",
      " 4   ConfirmedCases  35995 non-null  float64       \n",
      " 5   Fatalities      35995 non-null  float64       \n",
      "dtypes: datetime64[ns](1), float64(2), int64(1), object(2)\n",
      "memory usage: 1.6+ MB\n"
     ]
    }
   ],
   "source": [
    "## uncomment to check\n",
    "train.info()"
   ]
  },
  {
   "cell_type": "code",
   "execution_count": 232,
   "id": "bd377f2e",
   "metadata": {},
   "outputs": [
    {
     "name": "stdout",
     "output_type": "stream",
     "text": [
      "train \n",
      "start date: 2020-01-22 00:00:00, end date: 2020-05-15 00:00:00\n",
      "test \n",
      "start date: 2020-04-02 00:00:00, end date: 2020-05-14 00:00:00\n"
     ]
    }
   ],
   "source": [
    "print(f'train \\nstart date: {train.Date.min()}, end date: {train.Date.max()}') \n",
    "print(f'test \\nstart date: {test.Date.min()}, end date: {test.Date.max()}') "
   ]
  },
  {
   "cell_type": "code",
   "execution_count": 233,
   "id": "7339fd21",
   "metadata": {},
   "outputs": [
    {
     "data": {
      "text/html": [
       "<div>\n",
       "<style scoped>\n",
       "    .dataframe tbody tr th:only-of-type {\n",
       "        vertical-align: middle;\n",
       "    }\n",
       "\n",
       "    .dataframe tbody tr th {\n",
       "        vertical-align: top;\n",
       "    }\n",
       "\n",
       "    .dataframe thead th {\n",
       "        text-align: right;\n",
       "    }\n",
       "</style>\n",
       "<table border=\"1\" class=\"dataframe\">\n",
       "  <thead>\n",
       "    <tr style=\"text-align: right;\">\n",
       "      <th></th>\n",
       "      <th>Id</th>\n",
       "      <th>Province_State</th>\n",
       "      <th>Country_Region</th>\n",
       "      <th>Date</th>\n",
       "      <th>ConfirmedCases</th>\n",
       "      <th>Fatalities</th>\n",
       "    </tr>\n",
       "  </thead>\n",
       "  <tbody>\n",
       "    <tr>\n",
       "      <th>0</th>\n",
       "      <td>1</td>\n",
       "      <td>NaN</td>\n",
       "      <td>Afghanistan</td>\n",
       "      <td>2020-01-22</td>\n",
       "      <td>0.0</td>\n",
       "      <td>0.0</td>\n",
       "    </tr>\n",
       "    <tr>\n",
       "      <th>1</th>\n",
       "      <td>2</td>\n",
       "      <td>NaN</td>\n",
       "      <td>Afghanistan</td>\n",
       "      <td>2020-01-23</td>\n",
       "      <td>0.0</td>\n",
       "      <td>0.0</td>\n",
       "    </tr>\n",
       "    <tr>\n",
       "      <th>2</th>\n",
       "      <td>3</td>\n",
       "      <td>NaN</td>\n",
       "      <td>Afghanistan</td>\n",
       "      <td>2020-01-24</td>\n",
       "      <td>0.0</td>\n",
       "      <td>0.0</td>\n",
       "    </tr>\n",
       "    <tr>\n",
       "      <th>3</th>\n",
       "      <td>4</td>\n",
       "      <td>NaN</td>\n",
       "      <td>Afghanistan</td>\n",
       "      <td>2020-01-25</td>\n",
       "      <td>0.0</td>\n",
       "      <td>0.0</td>\n",
       "    </tr>\n",
       "    <tr>\n",
       "      <th>4</th>\n",
       "      <td>5</td>\n",
       "      <td>NaN</td>\n",
       "      <td>Afghanistan</td>\n",
       "      <td>2020-01-26</td>\n",
       "      <td>0.0</td>\n",
       "      <td>0.0</td>\n",
       "    </tr>\n",
       "  </tbody>\n",
       "</table>\n",
       "</div>"
      ],
      "text/plain": [
       "   Id Province_State Country_Region       Date  ConfirmedCases  Fatalities\n",
       "0   1            NaN    Afghanistan 2020-01-22             0.0         0.0\n",
       "1   2            NaN    Afghanistan 2020-01-23             0.0         0.0\n",
       "2   3            NaN    Afghanistan 2020-01-24             0.0         0.0\n",
       "3   4            NaN    Afghanistan 2020-01-25             0.0         0.0\n",
       "4   5            NaN    Afghanistan 2020-01-26             0.0         0.0"
      ]
     },
     "execution_count": 233,
     "metadata": {},
     "output_type": "execute_result"
    }
   ],
   "source": [
    "train.head()"
   ]
  },
  {
   "cell_type": "code",
   "execution_count": 234,
   "id": "85f31b7e",
   "metadata": {},
   "outputs": [],
   "source": [
    "## lets set index 'Id'\n",
    "train.set_index('Id', inplace=True)"
   ]
  },
  {
   "cell_type": "code",
   "execution_count": 235,
   "id": "c6e46272",
   "metadata": {},
   "outputs": [
    {
     "data": {
      "text/html": [
       "<div>\n",
       "<style scoped>\n",
       "    .dataframe tbody tr th:only-of-type {\n",
       "        vertical-align: middle;\n",
       "    }\n",
       "\n",
       "    .dataframe tbody tr th {\n",
       "        vertical-align: top;\n",
       "    }\n",
       "\n",
       "    .dataframe thead th {\n",
       "        text-align: right;\n",
       "    }\n",
       "</style>\n",
       "<table border=\"1\" class=\"dataframe\">\n",
       "  <thead>\n",
       "    <tr style=\"text-align: right;\">\n",
       "      <th></th>\n",
       "      <th>Province_State</th>\n",
       "      <th>Country_Region</th>\n",
       "      <th>Date</th>\n",
       "      <th>ConfirmedCases</th>\n",
       "      <th>Fatalities</th>\n",
       "    </tr>\n",
       "    <tr>\n",
       "      <th>Id</th>\n",
       "      <th></th>\n",
       "      <th></th>\n",
       "      <th></th>\n",
       "      <th></th>\n",
       "      <th></th>\n",
       "    </tr>\n",
       "  </thead>\n",
       "  <tbody>\n",
       "    <tr>\n",
       "      <th>1</th>\n",
       "      <td>NaN</td>\n",
       "      <td>Afghanistan</td>\n",
       "      <td>2020-01-22</td>\n",
       "      <td>0.0</td>\n",
       "      <td>0.0</td>\n",
       "    </tr>\n",
       "    <tr>\n",
       "      <th>2</th>\n",
       "      <td>NaN</td>\n",
       "      <td>Afghanistan</td>\n",
       "      <td>2020-01-23</td>\n",
       "      <td>0.0</td>\n",
       "      <td>0.0</td>\n",
       "    </tr>\n",
       "    <tr>\n",
       "      <th>3</th>\n",
       "      <td>NaN</td>\n",
       "      <td>Afghanistan</td>\n",
       "      <td>2020-01-24</td>\n",
       "      <td>0.0</td>\n",
       "      <td>0.0</td>\n",
       "    </tr>\n",
       "    <tr>\n",
       "      <th>4</th>\n",
       "      <td>NaN</td>\n",
       "      <td>Afghanistan</td>\n",
       "      <td>2020-01-25</td>\n",
       "      <td>0.0</td>\n",
       "      <td>0.0</td>\n",
       "    </tr>\n",
       "    <tr>\n",
       "      <th>5</th>\n",
       "      <td>NaN</td>\n",
       "      <td>Afghanistan</td>\n",
       "      <td>2020-01-26</td>\n",
       "      <td>0.0</td>\n",
       "      <td>0.0</td>\n",
       "    </tr>\n",
       "  </tbody>\n",
       "</table>\n",
       "</div>"
      ],
      "text/plain": [
       "   Province_State Country_Region       Date  ConfirmedCases  Fatalities\n",
       "Id                                                                     \n",
       "1             NaN    Afghanistan 2020-01-22             0.0         0.0\n",
       "2             NaN    Afghanistan 2020-01-23             0.0         0.0\n",
       "3             NaN    Afghanistan 2020-01-24             0.0         0.0\n",
       "4             NaN    Afghanistan 2020-01-25             0.0         0.0\n",
       "5             NaN    Afghanistan 2020-01-26             0.0         0.0"
      ]
     },
     "execution_count": 235,
     "metadata": {},
     "output_type": "execute_result"
    }
   ],
   "source": [
    "train.head()"
   ]
  },
  {
   "cell_type": "code",
   "execution_count": 236,
   "id": "0cf0dd24",
   "metadata": {},
   "outputs": [
    {
     "data": {
      "text/plain": [
       "(array([3.5136e+04, 4.1800e+02, 1.2700e+02, 8.5000e+01, 9.4000e+01,\n",
       "        5.3000e+01, 5.2000e+01, 9.0000e+00, 7.0000e+00, 1.4000e+01]),\n",
       " array([     0. ,  34581.3,  69162.6, 103743.9, 138325.2, 172906.5,\n",
       "        207487.8, 242069.1, 276650.4, 311231.7, 345813. ]),\n",
       " <BarContainer object of 10 artists>)"
      ]
     },
     "execution_count": 236,
     "metadata": {},
     "output_type": "execute_result"
    },
    {
     "data": {
      "image/png": "[encoded data removed]",
      "text/plain": [
       "<Figure size 640x480 with 1 Axes>"
      ]
     },
     "metadata": {},
     "output_type": "display_data"
    }
   ],
   "source": [
    "plt.hist(train['ConfirmedCases'])"
   ]
  },
  {
   "cell_type": "code",
   "execution_count": 237,
   "id": "b188676e",
   "metadata": {},
   "outputs": [
    {
     "data": {
      "text/plain": [
       "<Axes: xlabel='ConfirmedCases', ylabel='Density'>"
      ]
     },
     "execution_count": 237,
     "metadata": {},
     "output_type": "execute_result"
    },
    {
     "data": {
      "image/png": "[encoded data removed]",
      "text/plain": [
       "<Figure size 640x480 with 1 Axes>"
      ]
     },
     "metadata": {},
     "output_type": "display_data"
    }
   ],
   "source": [
    "sea.kdeplot(data= train, x= 'ConfirmedCases')"
   ]
  },
  {
   "cell_type": "code",
   "execution_count": 238,
   "id": "e62a20b5",
   "metadata": {},
   "outputs": [],
   "source": [
    "# very left  skewed, lets transform data"
   ]
  },
  {
   "cell_type": "code",
   "execution_count": 239,
   "id": "f892de98",
   "metadata": {},
   "outputs": [],
   "source": [
    "# a= [10,100,1000,10000,100000,10000000]\n",
    "# sea.kdeplot(np.log1p(a))"
   ]
  },
  {
   "cell_type": "code",
   "execution_count": 240,
   "id": "efcefca0",
   "metadata": {},
   "outputs": [
    {
     "data": {
      "text/plain": [
       "<Axes: xlabel='ConfirmedCases', ylabel='Density'>"
      ]
     },
     "execution_count": 240,
     "metadata": {},
     "output_type": "execute_result"
    },
    {
     "data": {
      "image/png": "[encoded data removed]",
      "text/plain": [
       "<Figure size 640x480 with 1 Axes>"
      ]
     },
     "metadata": {},
     "output_type": "display_data"
    }
   ],
   "source": [
    "train.ConfirmedCases = np.log1p(train.ConfirmedCases)\n",
    "sea.kdeplot(train.ConfirmedCases)"
   ]
  },
  {
   "cell_type": "code",
   "execution_count": 241,
   "id": "4c7d7a6a",
   "metadata": {},
   "outputs": [
    {
     "data": {
      "text/plain": [
       "(35995, 20700, 0.5750798722044729)"
      ]
     },
     "execution_count": 241,
     "metadata": {},
     "output_type": "execute_result"
    }
   ],
   "source": [
    "len(train), train.Province_State.isnull().sum(), train.Province_State.isnull().mean() "
   ]
  },
  {
   "cell_type": "markdown",
   "id": "d1f98685",
   "metadata": {},
   "source": [
    "- **more then 50% of the values are missing in province state**"
   ]
  },
  {
   "cell_type": "code",
   "execution_count": 26,
   "id": "707fcabd",
   "metadata": {},
   "outputs": [
    {
     "data": {
      "text/plain": [
       "Id\n",
       "921      Australian Capital Territory\n",
       "922      Australian Capital Territory\n",
       "923      Australian Capital Territory\n",
       "924      Australian Capital Territory\n",
       "925      Australian Capital Territory\n",
       "                     ...             \n",
       "34956        Turks and Caicos Islands\n",
       "34957        Turks and Caicos Islands\n",
       "34958        Turks and Caicos Islands\n",
       "34959        Turks and Caicos Islands\n",
       "34960        Turks and Caicos Islands\n",
       "Name: Province_State, Length: 15295, dtype: object"
      ]
     },
     "execution_count": 26,
     "metadata": {},
     "output_type": "execute_result"
    }
   ],
   "source": [
    "## Non Null Province_State\n",
    "# train.loc[~train.Province_State.isnull(), 'Province_State']"
   ]
  },
  {
   "cell_type": "code",
   "execution_count": 242,
   "id": "883217e9",
   "metadata": {},
   "outputs": [],
   "source": [
    "## We will combine Province_State and Country_Region and drop the unwanted columns\n",
    "train['CRPS'] = train.Country_Region + '_' + train.Province_State.fillna('') \n",
    "train.drop(['Country_Region', 'Province_State', 'Fatalities'], axis=1, inplace=True)"
   ]
  },
  {
   "cell_type": "code",
   "execution_count": 243,
   "id": "5a8b015e",
   "metadata": {},
   "outputs": [
    {
     "data": {
      "text/html": [
       "<div>\n",
       "<style scoped>\n",
       "    .dataframe tbody tr th:only-of-type {\n",
       "        vertical-align: middle;\n",
       "    }\n",
       "\n",
       "    .dataframe tbody tr th {\n",
       "        vertical-align: top;\n",
       "    }\n",
       "\n",
       "    .dataframe thead th {\n",
       "        text-align: right;\n",
       "    }\n",
       "</style>\n",
       "<table border=\"1\" class=\"dataframe\">\n",
       "  <thead>\n",
       "    <tr style=\"text-align: right;\">\n",
       "      <th></th>\n",
       "      <th>Date</th>\n",
       "      <th>ConfirmedCases</th>\n",
       "      <th>CRPS</th>\n",
       "    </tr>\n",
       "    <tr>\n",
       "      <th>Id</th>\n",
       "      <th></th>\n",
       "      <th></th>\n",
       "      <th></th>\n",
       "    </tr>\n",
       "  </thead>\n",
       "  <tbody>\n",
       "    <tr>\n",
       "      <th>1</th>\n",
       "      <td>2020-01-22</td>\n",
       "      <td>0.0</td>\n",
       "      <td>Afghanistan_</td>\n",
       "    </tr>\n",
       "    <tr>\n",
       "      <th>2</th>\n",
       "      <td>2020-01-23</td>\n",
       "      <td>0.0</td>\n",
       "      <td>Afghanistan_</td>\n",
       "    </tr>\n",
       "    <tr>\n",
       "      <th>3</th>\n",
       "      <td>2020-01-24</td>\n",
       "      <td>0.0</td>\n",
       "      <td>Afghanistan_</td>\n",
       "    </tr>\n",
       "    <tr>\n",
       "      <th>4</th>\n",
       "      <td>2020-01-25</td>\n",
       "      <td>0.0</td>\n",
       "      <td>Afghanistan_</td>\n",
       "    </tr>\n",
       "    <tr>\n",
       "      <th>5</th>\n",
       "      <td>2020-01-26</td>\n",
       "      <td>0.0</td>\n",
       "      <td>Afghanistan_</td>\n",
       "    </tr>\n",
       "  </tbody>\n",
       "</table>\n",
       "</div>"
      ],
      "text/plain": [
       "         Date  ConfirmedCases          CRPS\n",
       "Id                                         \n",
       "1  2020-01-22             0.0  Afghanistan_\n",
       "2  2020-01-23             0.0  Afghanistan_\n",
       "3  2020-01-24             0.0  Afghanistan_\n",
       "4  2020-01-25             0.0  Afghanistan_\n",
       "5  2020-01-26             0.0  Afghanistan_"
      ]
     },
     "execution_count": 243,
     "metadata": {},
     "output_type": "execute_result"
    }
   ],
   "source": [
    "train.head()"
   ]
  },
  {
   "cell_type": "code",
   "execution_count": 244,
   "id": "fb7a1384",
   "metadata": {},
   "outputs": [],
   "source": [
    "import re\n",
    "\n",
    "def make_date(df, date_field):\n",
    "    \"Make sure `df[date_field]` is of the right date type.\"\n",
    "    field_dtype = df[date_field].dtype\n",
    "    if isinstance(field_dtype, pd.core.dtypes.dtypes.DatetimeTZDtype):\n",
    "        field_dtype = np.datetime64\n",
    "    if not np.issubdtype(field_dtype, np.datetime64):\n",
    "        df[date_field] = pd.to_datetime(df[date_field], infer_datetime_format=True)\n",
    "\n",
    "def add_datepart(df, field_name, prefix=None, drop=True, time=False):\n",
    "    \"Helper function that adds columns relevant to a date in the column `field_name` of `df`.\"\n",
    "    make_date(df, field_name)\n",
    "    field = df[field_name]\n",
    "    if prefix is None:\n",
    "        prefix = re.sub('[Dd]ate$', '', field_name) \n",
    "    attr = ['Year', 'Month', 'Week', 'Day', 'Dayofweek', 'Dayofyear', 'Is_month_end', 'Is_month_start',\n",
    "            'Is_quarter_end', 'Is_quarter_start', 'Is_year_end', 'Is_year_start']\n",
    "    if time: attr = attr + ['Hour', 'Minute', 'Second']\n",
    "    \n",
    "    week = field.dt.isocalendar().week.astype(field.dt.day.dtype) if hasattr(field.dt, 'isocalendar') else field.dt.week\n",
    "    \n",
    "    for n in attr: df[prefix + n] = getattr(field.dt, n.lower()) if n != 'Week' else week\n",
    "    df[prefix + 'Elapsed'] = field.astype(np.int64) // 10 ** 9\n",
    "    if drop: df.drop(field_name, axis=1, inplace=True)\n",
    "    return df"
   ]
  },
  {
   "cell_type": "code",
   "execution_count": 245,
   "id": "f4f98d66",
   "metadata": {},
   "outputs": [
    {
     "name": "stderr",
     "output_type": "stream",
     "text": [
      "/tmp/ipykernel_6039/1356800857.py:1: UserWarning: The argument 'infer_datetime_format' is deprecated and will be removed in a future version. A strict version of it is now the default, see https://pandas.pydata.org/pdeps/0004-consistent-to-datetime-parsing.html. You can safely remove this argument.\n",
      "  train.Date = pd.to_datetime(train.Date, infer_datetime_format=True)\n"
     ]
    },
    {
     "data": {
      "text/html": [
       "<div>\n",
       "<style scoped>\n",
       "    .dataframe tbody tr th:only-of-type {\n",
       "        vertical-align: middle;\n",
       "    }\n",
       "\n",
       "    .dataframe tbody tr th {\n",
       "        vertical-align: top;\n",
       "    }\n",
       "\n",
       "    .dataframe thead th {\n",
       "        text-align: right;\n",
       "    }\n",
       "</style>\n",
       "<table border=\"1\" class=\"dataframe\">\n",
       "  <thead>\n",
       "    <tr style=\"text-align: right;\">\n",
       "      <th></th>\n",
       "      <th>Date</th>\n",
       "      <th>ConfirmedCases</th>\n",
       "      <th>CRPS</th>\n",
       "      <th>Month</th>\n",
       "      <th>Week</th>\n",
       "      <th>Day</th>\n",
       "      <th>Dayofweek</th>\n",
       "      <th>Dayofyear</th>\n",
       "      <th>Is_month_end</th>\n",
       "      <th>Is_month_start</th>\n",
       "      <th>Is_quarter_end</th>\n",
       "      <th>Is_quarter_start</th>\n",
       "      <th>Elapsed</th>\n",
       "    </tr>\n",
       "    <tr>\n",
       "      <th>Id</th>\n",
       "      <th></th>\n",
       "      <th></th>\n",
       "      <th></th>\n",
       "      <th></th>\n",
       "      <th></th>\n",
       "      <th></th>\n",
       "      <th></th>\n",
       "      <th></th>\n",
       "      <th></th>\n",
       "      <th></th>\n",
       "      <th></th>\n",
       "      <th></th>\n",
       "      <th></th>\n",
       "    </tr>\n",
       "  </thead>\n",
       "  <tbody>\n",
       "    <tr>\n",
       "      <th>1</th>\n",
       "      <td>2020-01-22</td>\n",
       "      <td>0.0</td>\n",
       "      <td>Afghanistan_</td>\n",
       "      <td>1</td>\n",
       "      <td>4</td>\n",
       "      <td>22</td>\n",
       "      <td>2</td>\n",
       "      <td>22</td>\n",
       "      <td>False</td>\n",
       "      <td>False</td>\n",
       "      <td>False</td>\n",
       "      <td>False</td>\n",
       "      <td>1579651200</td>\n",
       "    </tr>\n",
       "    <tr>\n",
       "      <th>2</th>\n",
       "      <td>2020-01-23</td>\n",
       "      <td>0.0</td>\n",
       "      <td>Afghanistan_</td>\n",
       "      <td>1</td>\n",
       "      <td>4</td>\n",
       "      <td>23</td>\n",
       "      <td>3</td>\n",
       "      <td>23</td>\n",
       "      <td>False</td>\n",
       "      <td>False</td>\n",
       "      <td>False</td>\n",
       "      <td>False</td>\n",
       "      <td>1579737600</td>\n",
       "    </tr>\n",
       "    <tr>\n",
       "      <th>3</th>\n",
       "      <td>2020-01-24</td>\n",
       "      <td>0.0</td>\n",
       "      <td>Afghanistan_</td>\n",
       "      <td>1</td>\n",
       "      <td>4</td>\n",
       "      <td>24</td>\n",
       "      <td>4</td>\n",
       "      <td>24</td>\n",
       "      <td>False</td>\n",
       "      <td>False</td>\n",
       "      <td>False</td>\n",
       "      <td>False</td>\n",
       "      <td>1579824000</td>\n",
       "    </tr>\n",
       "    <tr>\n",
       "      <th>4</th>\n",
       "      <td>2020-01-25</td>\n",
       "      <td>0.0</td>\n",
       "      <td>Afghanistan_</td>\n",
       "      <td>1</td>\n",
       "      <td>4</td>\n",
       "      <td>25</td>\n",
       "      <td>5</td>\n",
       "      <td>25</td>\n",
       "      <td>False</td>\n",
       "      <td>False</td>\n",
       "      <td>False</td>\n",
       "      <td>False</td>\n",
       "      <td>1579910400</td>\n",
       "    </tr>\n",
       "    <tr>\n",
       "      <th>5</th>\n",
       "      <td>2020-01-26</td>\n",
       "      <td>0.0</td>\n",
       "      <td>Afghanistan_</td>\n",
       "      <td>1</td>\n",
       "      <td>4</td>\n",
       "      <td>26</td>\n",
       "      <td>6</td>\n",
       "      <td>26</td>\n",
       "      <td>False</td>\n",
       "      <td>False</td>\n",
       "      <td>False</td>\n",
       "      <td>False</td>\n",
       "      <td>1579996800</td>\n",
       "    </tr>\n",
       "  </tbody>\n",
       "</table>\n",
       "</div>"
      ],
      "text/plain": [
       "         Date  ConfirmedCases          CRPS  Month  Week  Day  Dayofweek  \\\n",
       "Id                                                                         \n",
       "1  2020-01-22             0.0  Afghanistan_      1     4   22          2   \n",
       "2  2020-01-23             0.0  Afghanistan_      1     4   23          3   \n",
       "3  2020-01-24             0.0  Afghanistan_      1     4   24          4   \n",
       "4  2020-01-25             0.0  Afghanistan_      1     4   25          5   \n",
       "5  2020-01-26             0.0  Afghanistan_      1     4   26          6   \n",
       "\n",
       "    Dayofyear  Is_month_end  Is_month_start  Is_quarter_end  Is_quarter_start  \\\n",
       "Id                                                                              \n",
       "1          22         False           False           False             False   \n",
       "2          23         False           False           False             False   \n",
       "3          24         False           False           False             False   \n",
       "4          25         False           False           False             False   \n",
       "5          26         False           False           False             False   \n",
       "\n",
       "       Elapsed  \n",
       "Id              \n",
       "1   1579651200  \n",
       "2   1579737600  \n",
       "3   1579824000  \n",
       "4   1579910400  \n",
       "5   1579996800  "
      ]
     },
     "execution_count": 245,
     "metadata": {},
     "output_type": "execute_result"
    }
   ],
   "source": [
    "train.Date = pd.to_datetime(train.Date, infer_datetime_format=True)\n",
    "train = add_datepart(train, 'Date', drop=False)\n",
    "train.drop(train.columns[train.nunique() == 1], axis=1, inplace=True)# droping columns like 'year' with single unique value\n",
    "train.head()"
   ]
  },
  {
   "cell_type": "code",
   "execution_count": 246,
   "id": "b9c00c39",
   "metadata": {},
   "outputs": [
    {
     "name": "stdout",
     "output_type": "stream",
     "text": [
      "<class 'pandas.core.frame.DataFrame'>\n",
      "Index: 35995 entries, 1 to 35995\n",
      "Data columns (total 13 columns):\n",
      " #   Column            Non-Null Count  Dtype         \n",
      "---  ------            --------------  -----         \n",
      " 0   Date              35995 non-null  datetime64[ns]\n",
      " 1   ConfirmedCases    35995 non-null  float64       \n",
      " 2   CRPS              35995 non-null  object        \n",
      " 3   Month             35995 non-null  int32         \n",
      " 4   Week              35995 non-null  int32         \n",
      " 5   Day               35995 non-null  int32         \n",
      " 6   Dayofweek         35995 non-null  int32         \n",
      " 7   Dayofyear         35995 non-null  int32         \n",
      " 8   Is_month_end      35995 non-null  bool          \n",
      " 9   Is_month_start    35995 non-null  bool          \n",
      " 10  Is_quarter_end    35995 non-null  bool          \n",
      " 11  Is_quarter_start  35995 non-null  bool          \n",
      " 12  Elapsed           35995 non-null  int64         \n",
      "dtypes: bool(4), datetime64[ns](1), float64(1), int32(5), int64(1), object(1)\n",
      "memory usage: 2.2+ MB\n"
     ]
    }
   ],
   "source": [
    "train.info()"
   ]
  },
  {
   "cell_type": "code",
   "execution_count": 247,
   "id": "593c8dd0",
   "metadata": {},
   "outputs": [],
   "source": [
    "## lets convert all the boolean value\n",
    "for col in train.select_dtypes(include='bool').columns.to_list():\n",
    "    train[col] = train[col].astype(int) \n",
    "## convert int32 to int64\n",
    "for col in train.select_dtypes(include=np.int32).columns.to_list():\n",
    "    train[col] = train[col].astype(int) \n",
    "## convert ConfirmedCases to float32\n",
    "train['ConfirmedCases'] = train['ConfirmedCases'].astype(np.float32)"
   ]
  },
  {
   "cell_type": "code",
   "execution_count": 248,
   "id": "a17cb576",
   "metadata": {},
   "outputs": [
    {
     "name": "stdout",
     "output_type": "stream",
     "text": [
      "<class 'pandas.core.frame.DataFrame'>\n",
      "Index: 35995 entries, 1 to 35995\n",
      "Data columns (total 13 columns):\n",
      " #   Column            Non-Null Count  Dtype         \n",
      "---  ------            --------------  -----         \n",
      " 0   Date              35995 non-null  datetime64[ns]\n",
      " 1   ConfirmedCases    35995 non-null  float32       \n",
      " 2   CRPS              35995 non-null  object        \n",
      " 3   Month             35995 non-null  int64         \n",
      " 4   Week              35995 non-null  int64         \n",
      " 5   Day               35995 non-null  int64         \n",
      " 6   Dayofweek         35995 non-null  int64         \n",
      " 7   Dayofyear         35995 non-null  int64         \n",
      " 8   Is_month_end      35995 non-null  int64         \n",
      " 9   Is_month_start    35995 non-null  int64         \n",
      " 10  Is_quarter_end    35995 non-null  int64         \n",
      " 11  Is_quarter_start  35995 non-null  int64         \n",
      " 12  Elapsed           35995 non-null  int64         \n",
      "dtypes: datetime64[ns](1), float32(1), int64(10), object(1)\n",
      "memory usage: 3.7+ MB\n"
     ]
    }
   ],
   "source": [
    "train.info()"
   ]
  },
  {
   "cell_type": "code",
   "execution_count": 249,
   "id": "5bed3515",
   "metadata": {},
   "outputs": [
    {
     "data": {
      "text/plain": [
       "(['CRPS', 'Month', 'Dayofweek'],\n",
       " ['Week',\n",
       "  'Day',\n",
       "  'Dayofyear',\n",
       "  'Is_month_end',\n",
       "  'Is_month_start',\n",
       "  'Is_quarter_end',\n",
       "  'Is_quarter_start',\n",
       "  'Elapsed'])"
      ]
     },
     "execution_count": 249,
     "metadata": {},
     "output_type": "execute_result"
    }
   ],
   "source": [
    "# lets separate out categorical and continuous columns\n",
    "features = [c for c in train.columns if c not in ['Date','ConfirmedCases']]\n",
    "cat_feat = ['CRPS', 'Month', 'Dayofweek']\n",
    "cont_feat = [c for c in features if c not in cat_feat]\n",
    "cat_feat, cont_feat"
   ]
  },
  {
   "cell_type": "code",
   "execution_count": 250,
   "id": "3b314acc",
   "metadata": {},
   "outputs": [],
   "source": [
    "## lets encode cat col\n",
    "from sklearn.preprocessing import LabelEncoder\n",
    "\n",
    "encoders = {}\n",
    "for f in cat_feat:\n",
    "    le = LabelEncoder()\n",
    "    train[f] = le.fit_transform(train[f].values)\n",
    "    encoders[f] = le"
   ]
  },
  {
   "cell_type": "code",
   "execution_count": 251,
   "id": "4f2ce0ee",
   "metadata": {},
   "outputs": [
    {
     "data": {
      "text/plain": [
       "{'CRPS': LabelEncoder(), 'Month': LabelEncoder(), 'Dayofweek': LabelEncoder()}"
      ]
     },
     "execution_count": 251,
     "metadata": {},
     "output_type": "execute_result"
    }
   ],
   "source": [
    "encoders"
   ]
  },
  {
   "cell_type": "code",
   "execution_count": 252,
   "id": "a7f7b9f1",
   "metadata": {},
   "outputs": [],
   "source": [
    "train['isValid'] = 0\n",
    "train.loc[train.Date >= test.Date.min(), 'isValid'] = 1"
   ]
  },
  {
   "cell_type": "code",
   "execution_count": 253,
   "id": "dbbc8111",
   "metadata": {},
   "outputs": [
    {
     "data": {
      "text/plain": [
       "isValid\n",
       "0    22223\n",
       "1    13772\n",
       "Name: count, dtype: int64"
      ]
     },
     "execution_count": 253,
     "metadata": {},
     "output_type": "execute_result"
    }
   ],
   "source": [
    "train.isValid.value_counts()"
   ]
  },
  {
   "cell_type": "code",
   "execution_count": 254,
   "id": "dc07eb5b",
   "metadata": {},
   "outputs": [],
   "source": [
    "## data split\n",
    "train, test = train[train.isValid == 0], train[train.isValid == 1]"
   ]
  },
  {
   "cell_type": "code",
   "execution_count": 255,
   "id": "c5c84bb7",
   "metadata": {},
   "outputs": [
    {
     "data": {
      "text/plain": [
       "((22223, 14), (13772, 14))"
      ]
     },
     "execution_count": 255,
     "metadata": {},
     "output_type": "execute_result"
    }
   ],
   "source": [
    "train.shape, test.shape"
   ]
  },
  {
   "cell_type": "code",
   "execution_count": 256,
   "id": "a0e74252",
   "metadata": {},
   "outputs": [],
   "source": [
    "### we are good till now, lets Work on Datatset and Dataloader class"
   ]
  },
  {
   "cell_type": "markdown",
   "id": "8741940e",
   "metadata": {},
   "source": [
    "# Dataset and DataLoaders\n"
   ]
  },
  {
   "cell_type": "code",
   "execution_count": 258,
   "id": "5b519a74",
   "metadata": {},
   "outputs": [],
   "source": [
    "class CovidDatatset(Dataset):\n",
    "    def __init__(self,train,cat_feats, target='ConfirmedCases'):\n",
    "        self.y = train[target]\n",
    "        self.x_cat = train[cat_feats]\n",
    "        self.x_cont = train.drop(cat_feats + [target], axis=1)\n",
    "    \n",
    "    def __getitem__(self, idx):\n",
    "        return  torch.tensor(self.x_cat.iloc[idx]), torch.tensor(self.x_cont.iloc[idx]), torch.tensor(self.y.iloc[idx]) \n",
    "    \n",
    "    def __len__(self):\n",
    "        return len(self.y)"
   ]
  },
  {
   "cell_type": "code",
   "execution_count": 259,
   "id": "8c862db4",
   "metadata": {},
   "outputs": [],
   "source": [
    "bs =1024"
   ]
  },
  {
   "cell_type": "code",
   "execution_count": 260,
   "id": "e00fcd27",
   "metadata": {},
   "outputs": [],
   "source": [
    "train_ds = CovidDatatset(train[features+['ConfirmedCases']], cat_feat)\n",
    "valid_ds = CovidDatatset(test[features+['ConfirmedCases']], cat_feat)\n",
    "\n",
    "train_dl = DataLoader(train_ds, batch_size=bs, shuffle=True)\n",
    "valid_dl = DataLoader(valid_ds, batch_size=bs, shuffle=False)"
   ]
  },
  {
   "cell_type": "code",
   "execution_count": null,
   "id": "dfccb3ca",
   "metadata": {},
   "outputs": [],
   "source": [
    "valid_dl"
   ]
  },
  {
   "cell_type": "markdown",
   "id": "ed4c286d",
   "metadata": {},
   "source": [
    "# Building Model"
   ]
  },
  {
   "cell_type": "code",
   "execution_count": 261,
   "id": "5acd1d6e",
   "metadata": {},
   "outputs": [],
   "source": [
    "# we will use embeddings to handle the categorical columns"
   ]
  },
  {
   "cell_type": "code",
   "execution_count": 262,
   "id": "ba5f5df5",
   "metadata": {},
   "outputs": [],
   "source": [
    "# to select we are using the :rule of thumb to pick embeddings 'source:Fastai'\n",
    "def emb_sz(n_cat):\n",
    "    return min(600, round(1.6 * n_cat**0.56))\n",
    "\n",
    "def get_emb_sz(d):\n",
    "    emb_szs = [(c, int(emb_sz(c))) for c in d]\n",
    "    return emb_szs"
   ]
  },
  {
   "cell_type": "code",
   "execution_count": 263,
   "id": "4159c0db",
   "metadata": {},
   "outputs": [],
   "source": [
    "uninque= [train[c].nunique() for c in cat_feat]# uninque, cat_feat\n",
    "emb_sz = get_emb_sz(uninque)"
   ]
  },
  {
   "cell_type": "code",
   "execution_count": 264,
   "id": "a71d6092",
   "metadata": {},
   "outputs": [
    {
     "data": {
      "text/plain": [
       "[(313, 40), (4, 3), (7, 5)]"
      ]
     },
     "execution_count": 264,
     "metadata": {},
     "output_type": "execute_result"
    }
   ],
   "source": [
    "emb_sz"
   ]
  },
  {
   "cell_type": "code",
   "execution_count": 265,
   "id": "749ec56c",
   "metadata": {},
   "outputs": [],
   "source": [
    "class CovidNet(nn.Module):\n",
    "    def __init__(self, emb_sz, n_cont):\n",
    "        super().__init__()\n",
    "        self.embs = nn.ModuleList([nn.Embedding(c,n) for c,n in emb_sz])\n",
    "        n_cat = sum([n for _,n in emb_sz])#48\n",
    "        self.classifier = nn.Sequential(\n",
    "            nn.Linear((n_cat+n_cont), 128),\n",
    "            nn.ReLU(),\n",
    "            nn.Linear(128,1)\n",
    "        )\n",
    "        self.emb_dp = nn.Dropout(0.5)\n",
    "    \n",
    "    def forward(self, x_cat, x_cont):\n",
    "        x_embs = [emb(x_cat[:, i]) for i, emb in enumerate(self.embs)] #embedding matrix of all cat var.\n",
    "        x_embs = torch.cat(x_embs, 1)\n",
    "        \n",
    "        x = torch.cat((x_cont.type(torch.FloatTensor), x_embs), 1)\n",
    "        x =self.classifier(x)\n",
    "        return x.squeeze()"
   ]
  },
  {
   "cell_type": "code",
   "execution_count": 266,
   "id": "f2841192",
   "metadata": {},
   "outputs": [],
   "source": [
    "# The main difference between nn.Sequential is that nn.ModuleList have not a forward() \n",
    "# method so the inner layers are not connected. That is why we have concated the embeddings"
   ]
  },
  {
   "cell_type": "code",
   "execution_count": 267,
   "id": "e28b4722",
   "metadata": {},
   "outputs": [
    {
     "data": {
      "text/plain": [
       "CovidNet(\n",
       "  (embs): ModuleList(\n",
       "    (0): Embedding(313, 40)\n",
       "    (1): Embedding(4, 3)\n",
       "    (2): Embedding(7, 5)\n",
       "  )\n",
       "  (classifier): Sequential(\n",
       "    (0): Linear(in_features=56, out_features=128, bias=True)\n",
       "    (1): ReLU()\n",
       "    (2): Linear(in_features=128, out_features=1, bias=True)\n",
       "  )\n",
       "  (emb_dp): Dropout(p=0.5, inplace=False)\n",
       ")"
      ]
     },
     "execution_count": 267,
     "metadata": {},
     "output_type": "execute_result"
    }
   ],
   "source": [
    "model = CovidNet(emb_sz, len(cont_feat))\n",
    "model"
   ]
  },
  {
   "cell_type": "code",
   "execution_count": 268,
   "id": "2b88d05f",
   "metadata": {},
   "outputs": [],
   "source": [
    "loss_fn = nn.MSELoss()\n",
    "optimizer = optim.Adam(model.parameters(), lr=0.1)"
   ]
  },
  {
   "cell_type": "code",
   "execution_count": 273,
   "id": "cdd59824",
   "metadata": {},
   "outputs": [],
   "source": [
    "def train_model(epochs=3):\n",
    "    for i in range(epochs):\n",
    "        ## Training\n",
    "        train_loss = 0.0\n",
    "        model.train()\n",
    "        for X1s, X2s, ys in train_dl:\n",
    "            optimizer.zero_grad()\n",
    "            preds = model(X1s, X2s)\n",
    "#             print(preds.dtype, ys.dtype)\n",
    "            loss = loss_fn(preds, ys)\n",
    "#             print(loss.dtype)\n",
    "            loss.backward()\n",
    "            optimizer.step()\n",
    "            train_loss += loss.item()\n",
    "\n",
    "        train_loss /= len(train_dl)\n",
    "\n",
    "#         ## Testing\n",
    "#         test_loss = 0.0\n",
    "#         model.eval()\n",
    "#         with torch.no_grad():\n",
    "#             for X1s, X2s, ys in valid_dl:\n",
    "#                 preds = model(X1s, X2s)\n",
    "#                 loss = loss_fn(preds, ys)\n",
    "#                 test_loss += loss.item()\n",
    "\n",
    "#             test_loss /= len(valid_dl)\n",
    "        \n",
    "        print(f'| Epoch: {(i+1):02} | Train Loss: {train_loss:.3f} ')\n",
    "# | Val. Loss:  {test_loss:.3f}"
   ]
  },
  {
   "cell_type": "code",
   "execution_count": 275,
   "id": "e14156ce",
   "metadata": {},
   "outputs": [
    {
     "name": "stdout",
     "output_type": "stream",
     "text": [
      "| Epoch: 01 | Train Loss: 8.099 \n",
      "| Epoch: 02 | Train Loss: 8.090 \n",
      "| Epoch: 03 | Train Loss: 8.107 \n",
      "| Epoch: 04 | Train Loss: 8.090 \n",
      "| Epoch: 05 | Train Loss: 8.093 \n",
      "| Epoch: 06 | Train Loss: 8.096 \n",
      "| Epoch: 07 | Train Loss: 8.101 \n",
      "| Epoch: 08 | Train Loss: 8.098 \n",
      "| Epoch: 09 | Train Loss: 8.109 \n",
      "| Epoch: 10 | Train Loss: 8.086 \n"
     ]
    }
   ],
   "source": [
    "train_model(10)"
   ]
  },
  {
   "cell_type": "code",
   "execution_count": null,
   "id": "e9099c61",
   "metadata": {},
   "outputs": [],
   "source": []
  },
  {
   "cell_type": "code",
   "execution_count": null,
   "id": "47eb8f1e",
   "metadata": {},
   "outputs": [],
   "source": []
  }
 ],
 "metadata": {
  "kernelspec": {
   "display_name": "pytorch_nn",
   "language": "python",
   "name": "pytorch_nn"
  },
  "language_info": {
   "codemirror_mode": {
    "name": "ipython",
    "version": 3
   },
   "file_extension": ".py",
   "mimetype": "text/x-python",
   "name": "python",
   "nbconvert_exporter": "python",
   "pygments_lexer": "ipython3",
   "version": "3.11.5"
  }
 },
 "nbformat": 4,
 "nbformat_minor": 5
}
